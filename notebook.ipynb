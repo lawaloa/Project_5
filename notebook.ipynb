{
 "cells": [
  {
   "cell_type": "raw",
   "id": "498c4151-b1f5-4fbc-b6b5-3a8664a0fa01",
   "metadata": {},
   "source": [
    "---\n",
    "title: \"CUSTOMER ANALYTICS: PREPARING DATA FOR MODELLING\"\n",
    "title-block-banner: image.jpg\n",
    "author: \"Omotola Ayodele Lawal\"\n",
    "date: \"2024-09-16\"\n",
    "toc: true\n",
    "number-sections: false\n",
    "highlight-style: pygments\n",
    "format: \n",
    "  html:\n",
    "    code-fold: false\n",
    "  pdf:\n",
    "    geometry:\n",
    "      - top=30mm\n",
    "      - left=20mm\n",
    "  docx: default\n",
    "execute:\n",
    "  warning: false\n",
    "jupyter: python3\n",
    "---"
   ]
  },
  {
   "cell_type": "raw",
   "id": "39499eb4-2d22-4236-b0d7-e8ceef80aa7b",
   "metadata": {},
   "source": [
    "### Project Overview"
   ]
  },
  {
   "cell_type": "raw",
   "id": "6efcf69b-0b60-41cf-b55c-5cee05eb35aa",
   "metadata": {},
   "source": [
    "### Task"
   ]
  },
  {
   "cell_type": "raw",
   "id": "12e353f7-734b-493e-8a52-0c9a522fecc5",
   "metadata": {},
   "source": [
    "### Data Source"
   ]
  },
  {
   "cell_type": "raw",
   "id": "3ce801c5-397a-401f-a992-a105613500d0",
   "metadata": {},
   "source": [
    "### Tools"
   ]
  },
  {
   "cell_type": "raw",
   "id": "4dc7a831-93d7-40cc-abec-0352c87a0bcf",
   "metadata": {},
   "source": [
    "### Steps/Explanations"
   ]
  },
  {
   "cell_type": "raw",
   "id": "95ffbdff-bfc2-48ca-8d16-adb7a8869c1e",
   "metadata": {},
   "source": [
    "### Data Analysis"
   ]
  },
  {
   "cell_type": "raw",
   "id": "c8b748a0-b233-40fd-8832-efce7176faec",
   "metadata": {},
   "source": [
    "### Results"
   ]
  },
  {
   "cell_type": "raw",
   "id": "7f0133e2-f09e-441e-bd07-e083beb0b4a4",
   "metadata": {},
   "source": [
    "### Recommendations"
   ]
  },
  {
   "cell_type": "raw",
   "id": "e3d5ed82-7a95-45de-87f5-1572b6400d27",
   "metadata": {},
   "source": [
    "### Limitations"
   ]
  },
  {
   "cell_type": "raw",
   "id": "28af22f8-5773-440d-a5f4-1a883f10dd75",
   "metadata": {},
   "source": [
    "### References"
   ]
  },
  {
   "cell_type": "markdown",
   "id": "a09e6d54-bf3f-4632-b299-bd49d5c80d5f",
   "metadata": {},
   "source": [
    "Project Overview\n",
    "-----\n",
    "\n",
    "![Two data scientists working on a dashboard.](hr-image-small.png)\n",
    "\n",
    "A common problem when creating models to generate business value from data is that the datasets can be so large that it can take days for the model to generate predictions. Ensuring that your dataset is stored as efficiently as possible is crucial for allowing these models to run on a more reasonable timescale without having to reduce the size of the dataset.\n",
    "\n",
    "You've been hired by a major online data science training provider called *Training Data Ltd.* to clean up one of their largest customer datasets. This dataset will eventually be used to predict whether their students are looking for a new job or not, information that they will then use to direct them to prospective recruiters.\n",
    "\n",
    "You've been given access to `customer_train.csv`, which is a subset of their entire customer dataset, so you can create a proof-of-concept of a much more efficient storage solution. The dataset contains anonymized student information, and whether they were looking for a new job or not during training:\n",
    "\n",
    "| Column                   | Description                                                                      |\n",
    "|------------------------- |--------------------------------------------------------------------------------- |\n",
    "| `student_id`             | A unique ID for each student.                                                    |\n",
    "| `city`                   | A code for the city the student lives in.                                        |\n",
    "| `city_development_index` | A scaled development index for the city.                                         |\n",
    "| `gender`                 | The student's gender.                                                            |\n",
    "| `relevant_experience`    | An indicator of the student's work relevant experience.                          |\n",
    "| `enrolled_university`    | The type of university course enrolled in (if any).                              |\n",
    "| `education_level`        | The student's education level.                                                   |\n",
    "| `major_discipline`       | The educational discipline of the student.                                       |\n",
    "| `experience`             | The student's total work experience (in years).                                  |\n",
    "| `company_size`           | The number of employees at the student's current employer.                       |\n",
    "| `company_type`           | The type of company employing the student.                                       |\n",
    "| `last_new_job`           | The number of years between the student's current and previous jobs.             |\n",
    "| `training_hours`         | The number of hours of training completed.                                       |\n",
    "| `job_change`             | An indicator of whether the student is looking for a new job (`1`) or not (`0`). |"
   ]
  },
  {
   "cell_type": "markdown",
   "id": "2662bdf6-869d-4aec-8cd8-c688ee0e0087",
   "metadata": {
    "jp-MarkdownHeadingCollapsed": true
   },
   "source": [
    "Task\n",
    "-----\n",
    "\n",
    "The Head Data Scientist at Training Data Ltd. has asked you to create a `DataFrame` called `ds_jobs_transformed` that stores the data in `customer_train.csv` much more efficiently. Specifically, they have set the following requirements:\n",
    "\n",
    "- Columns containing categories with only two factors must be stored as Booleans (bool).\n",
    "\n",
    "- Columns containing integers only must be stored as 32-bit integers (int32).\n",
    "\n",
    "- Columns containing floats must be stored as 16-bit floats (float16).\n",
    "\n",
    "- Columns containing nominal categorical data must be stored as the category data type.\n",
    "\n",
    "- Columns containing ordinal categorical data must be stored as ordered categories, and not mapped to numerical values, with an order that reflects the natural order of the column.\n",
    "\n",
    "- The DataFrame should be filtered to only contain students with 10 or more years of experience at companies with at least 1000 employees, as their recruiter base is suited to more experienced professionals at enterprise companies."
   ]
  },
  {
   "cell_type": "markdown",
   "id": "7bd60119-2eec-4be2-a40c-688d7e063d94",
   "metadata": {},
   "source": [
    "::: {.callout-tip collapse=\"false\"}\n",
    "## Important\n",
    "If you call `.info()` or `.memory_usage()` methods on `ds_jobs` and `ds_jobs_transformed` after you've preprocessed it, you should notice a substantial decrease in memory usage.\n",
    ":::"
   ]
  },
  {
   "cell_type": "markdown",
   "id": "4ecced56-baf0-4872-a827-6f7ed8f4a276",
   "metadata": {},
   "source": [
    "Data Source\n",
    "---\n",
    "\n",
    "Data: The primary data used for this analysis is the `customer_train.csv`, which is a subset of the entire customer dataset\n"
   ]
  },
  {
   "cell_type": "markdown",
   "id": "8f0b85c6-2e25-4f3e-a211-549beb3bd72d",
   "metadata": {},
   "source": [
    "Tools\n",
    "----\n",
    "\n",
    "Jupyter lab"
   ]
  },
  {
   "cell_type": "markdown",
   "id": "442b3d88-7175-459b-8b04-00ef793b0004",
   "metadata": {},
   "source": [
    "Steps/Explanations\n",
    "----\n",
    "\n",
    "- The necessary library was imported, which is `Pandas`\n",
    " \n",
    "- The Original dataset was loaded, named `ds_jobs` and a copy was made, called `ds_jobs_transformed`\n",
    "\n",
    "- Exploratory Data Analysis was performed which help identify ordinal, nominal, and two-factor categories. This was done by written codes, which iterate over all columns of the DataFrame `ds_jobs` that have a data type of object (typically representing strings or categorical data) and print the value counts of each column.\n",
    "\n",
    "- A dictionary of columns containing ordered categorical data was created. The code defines the dictionary called ordered_cats, which contains lists of ordered categories for various features. These features represent specific categorical data in a dataset (e.g., levels of education, size of the company, work experience, etc.). This dictionary can later be used to create ordered categorical columns, for example, when transforming or encoding data in a pandas DataFrame.\n",
    "\n",
    "- A mapping dictionary of columns containing two-factor categories to convert to Booleans was created. The code defines a Python dictionary called two_factor_cats. This dictionary is used to map certain categorical values into Boolean (True or False) values.\n",
    "\n",
    "- This `for col in ds_jobs_transformed:` code iterates through each column in the `ds_jobs_transformed` DataFrame, performing different transformations based on the column name.\n",
    "\n",
    "- For the columns `'relevant_experience'` and `'job_change'`, if col in `['relevant_experience', 'job_change']:` code uses the `two_factor_cats` dictionary to convert their categorical values into boolean values (True/False).\n",
    "\n",
    "- The .map() function applies the mapping from two_factor_cats (defined previously) to the column. For example:\n",
    "    + `'No relevant experience'` becomes `False`.\n",
    "    + `'Has relevant experience'` becomes `True`.\n",
    "    + `0.0` becomes `False`.\n",
    "    + `1.0` becomes `True`.\n",
    "\n",
    "- For the columns `'student_id'` and `'training_hours'`, `elif col in ['student_id', 'training_hours']:` code changes their data types to int32 using `.astype('int32')`. This helps reduce memory usage, especially if the original data type was int64. The smaller int32 uses less memory and is sufficient for storing integers that fit within the 32-bit range.\n",
    "\n",
    "- The column `'city_development_index'` is converted to `float16 (16-bit floating-point format)` by the following code:\n",
    "  \n",
    "```\n",
    "elif col in ['student_id', 'training_hours']:\n",
    "        ds_jobs_transformed[col] = ds_jobs_transformed[col].astype('int32')\n",
    " ```\n",
    "  + `float16` consumes less memory than the default `float64`.\n",
    "  + It’s useful for reducing the memory footprint of large datasets when the precision provided by `float16` is sufficient.\n",
    "\n",
    "- For columns that are in the `ordered_cats` dictionary created earlier, the code below converts them to ordered categorical data types.\n",
    "\n",
    "```\n",
    "elif col in ordered_cats.keys():\n",
    "    category = pd.CategoricalDtype(ordered_cats[col], ordered=True)\n",
    "    ds_jobs_transformed[col] = ds_jobs_transformed[col].astype(category)\n",
    "```\n",
    "- `ordered_cats` is a dictionary that contains the order of categories for certain columns.\n",
    "\n",
    "- `pd.CategoricalDtype` creates a categorical data type with a specific order, which is useful when the categories have a meaningful order (e.g., educational levels or experience).\n",
    "\n",
    "- `ordered=True` ensures that the categories are treated as ordered (e.g., \"Primary School\" < \"High School\" < \"Graduate\").\n",
    "\n",
    "- The `.astype(category)` applies this conversion.\n",
    "\n",
    "- For all remaining columns (those not handled in the previous conditions), the code below converts them to the standard categorical data type without an explicit order.\n",
    "\n",
    "```\n",
    "else:\n",
    "    ds_jobs_transformed[col] = ds_jobs_transformed[col].astype('category')\n",
    "```\n",
    "\n",
    "- Converting to category reduces memory usage, especially when the column has a limited number of distinct values (e.g., city names, job roles, etc.).\n",
    "        \n",
    "- The final DataFrame was filtered to only contain students with 10 or more years of experience at companies with at least 1000 employees, as their recruiter base is suited to more experienced professionals at enterprise companies."
   ]
  },
  {
   "cell_type": "code",
   "execution_count": 6,
   "id": "eda9c1b2-4e9a-41ac-8da6-d4c98775f986",
   "metadata": {
    "executionCancelledAt": null,
    "executionTime": null,
    "lastExecutedAt": null,
    "lastExecutedByKernel": null,
    "lastScheduledRunId": null,
    "lastSuccessfullyExecutedCode": null,
    "outputsMetadata": {
     "0": {
      "height": 237,
      "type": "dataFrame"
     }
    }
   },
   "outputs": [
    {
     "name": "stdout",
     "output_type": "stream",
     "text": [
      "<class 'pandas.core.frame.DataFrame'>\n",
      "RangeIndex: 19158 entries, 0 to 19157\n",
      "Data columns (total 14 columns):\n",
      " #   Column                  Non-Null Count  Dtype  \n",
      "---  ------                  --------------  -----  \n",
      " 0   student_id              19158 non-null  int64  \n",
      " 1   city                    19158 non-null  object \n",
      " 2   city_development_index  19158 non-null  float64\n",
      " 3   gender                  14650 non-null  object \n",
      " 4   relevant_experience     19158 non-null  object \n",
      " 5   enrolled_university     18772 non-null  object \n",
      " 6   education_level         18698 non-null  object \n",
      " 7   major_discipline        16345 non-null  object \n",
      " 8   experience              19093 non-null  object \n",
      " 9   company_size            13220 non-null  object \n",
      " 10  company_type            13018 non-null  object \n",
      " 11  last_new_job            18735 non-null  object \n",
      " 12  training_hours          19158 non-null  int64  \n",
      " 13  job_change              19158 non-null  float64\n",
      "dtypes: float64(2), int64(2), object(10)\n",
      "memory usage: 2.0+ MB\n"
     ]
    }
   ],
   "source": [
    "# Import necessary libraries\n",
    "import pandas as pd\n",
    "\n",
    "# Load the dataset\n",
    "ds_jobs = pd.read_csv(\"customer_train.csv\")\n",
    "\n",
    "# View the dataset\n",
    "ds_jobs.head()\n",
    "\n",
    "ds_jobs.info()"
   ]
  },
  {
   "cell_type": "markdown",
   "id": "3ba9706a-adb5-4f12-8377-9df7e7f59ef9",
   "metadata": {},
   "source": [
    "Data Analysis \n",
    "--------\n",
    "\n",
    "Include below are the codes used to achieve the task given"
   ]
  },
  {
   "cell_type": "code",
   "execution_count": 5,
   "id": "b63b48b2-a5d1-4177-8b05-613f5b82d6ff",
   "metadata": {
    "executionCancelledAt": null,
    "executionTime": null,
    "lastExecutedAt": null,
    "lastExecutedByKernel": null,
    "lastScheduledRunId": null,
    "lastSuccessfullyExecutedCode": null,
    "outputsMetadata": {
     "0": {
      "height": 482,
      "type": "stream"
     },
     "1": {
      "height": 237,
      "type": "dataFrame"
     }
    }
   },
   "outputs": [
    {
     "name": "stdout",
     "output_type": "stream",
     "text": [
      "city\n",
      "city_103    4355\n",
      "city_21     2702\n",
      "city_16     1533\n",
      "city_114    1336\n",
      "city_160     845\n",
      "            ... \n",
      "city_129       3\n",
      "city_111       3\n",
      "city_121       3\n",
      "city_140       1\n",
      "city_171       1\n",
      "Name: count, Length: 123, dtype: int64 \n",
      "\n",
      "gender\n",
      "Male      13221\n",
      "Female     1238\n",
      "Other       191\n",
      "Name: count, dtype: int64 \n",
      "\n",
      "relevant_experience\n",
      "Has relevant experience    13792\n",
      "No relevant experience      5366\n",
      "Name: count, dtype: int64 \n",
      "\n",
      "enrolled_university\n",
      "no_enrollment       13817\n",
      "Full time course     3757\n",
      "Part time course     1198\n",
      "Name: count, dtype: int64 \n",
      "\n",
      "education_level\n",
      "Graduate          11598\n",
      "Masters            4361\n",
      "High School        2017\n",
      "Phd                 414\n",
      "Primary School      308\n",
      "Name: count, dtype: int64 \n",
      "\n",
      "major_discipline\n",
      "STEM               14492\n",
      "Humanities           669\n",
      "Other                381\n",
      "Business Degree      327\n",
      "Arts                 253\n",
      "No Major             223\n",
      "Name: count, dtype: int64 \n",
      "\n",
      "experience\n",
      ">20    3286\n",
      "5      1430\n",
      "4      1403\n",
      "3      1354\n",
      "6      1216\n",
      "2      1127\n",
      "7      1028\n",
      "10      985\n",
      "9       980\n",
      "8       802\n",
      "15      686\n",
      "11      664\n",
      "14      586\n",
      "1       549\n",
      "<1      522\n",
      "16      508\n",
      "12      494\n",
      "13      399\n",
      "17      342\n",
      "19      304\n",
      "18      280\n",
      "20      148\n",
      "Name: count, dtype: int64 \n",
      "\n",
      "company_size\n",
      "50-99        3083\n",
      "100-499      2571\n",
      "10000+       2019\n",
      "10-49        1471\n",
      "1000-4999    1328\n",
      "<10          1308\n",
      "500-999       877\n",
      "5000-9999     563\n",
      "Name: count, dtype: int64 \n",
      "\n",
      "company_type\n",
      "Pvt Ltd                9817\n",
      "Funded Startup         1001\n",
      "Public Sector           955\n",
      "Early Stage Startup     603\n",
      "NGO                     521\n",
      "Other                   121\n",
      "Name: count, dtype: int64 \n",
      "\n",
      "last_new_job\n",
      "1        8040\n",
      ">4       3290\n",
      "2        2900\n",
      "never    2452\n",
      "4        1029\n",
      "3        1024\n",
      "Name: count, dtype: int64 \n",
      "\n",
      "<class 'pandas.core.frame.DataFrame'>\n",
      "Index: 2201 entries, 9 to 19143\n",
      "Data columns (total 14 columns):\n",
      " #   Column                  Non-Null Count  Dtype   \n",
      "---  ------                  --------------  -----   \n",
      " 0   student_id              2201 non-null   int32   \n",
      " 1   city                    2201 non-null   category\n",
      " 2   city_development_index  2201 non-null   float16 \n",
      " 3   gender                  1821 non-null   category\n",
      " 4   relevant_experience     2201 non-null   bool    \n",
      " 5   enrolled_university     2185 non-null   category\n",
      " 6   education_level         2184 non-null   category\n",
      " 7   major_discipline        2097 non-null   category\n",
      " 8   experience              2201 non-null   category\n",
      " 9   company_size            2201 non-null   category\n",
      " 10  company_type            2144 non-null   category\n",
      " 11  last_new_job            2184 non-null   category\n",
      " 12  training_hours          2201 non-null   int32   \n",
      " 13  job_change              2201 non-null   bool    \n",
      "dtypes: bool(2), category(9), float16(1), int32(2)\n",
      "memory usage: 69.5 KB\n"
     ]
    }
   ],
   "source": [
    "# Import necessary libraries\n",
    "import pandas as pd\n",
    "\n",
    "# Load the dataset and create a copy\n",
    "ds_jobs = pd.read_csv(\"customer_train.csv\")\n",
    "ds_jobs_transformed = ds_jobs.copy()\n",
    "\n",
    "# EDA to help identify ordinal, nominal, and two-factor categories\n",
    "for col in ds_jobs.select_dtypes(\"object\").columns:\n",
    "    print(ds_jobs_transformed[col].value_counts(), '\\n')\n",
    "\n",
    "# Create a dictionary of columns containing ordered categorical data\n",
    "ordered_cats = {\n",
    "    'enrolled_university': ['no_enrollment', 'Part time course', 'Full time course'],\n",
    "    'education_level': ['Primary School', 'High School', 'Graduate', 'Masters', 'Phd'],\n",
    "    'experience': ['<1'] + list(map(str, range(1, 21))) + ['>20'],\n",
    "    'company_size': ['<10', '10-49', '50-99', '100-499', '500-999', '1000-4999', '5000-9999', '10000+'],\n",
    "    'last_new_job': ['never', '1', '2', '3', '4', '>4']\n",
    "}\n",
    "\n",
    "# Create a mapping dictionary of columns containing two-factor categories to convert to Booleans\n",
    "two_factor_cats = {\n",
    "    'relevant_experience': {'No relevant experience': False, 'Has relevant experience': True},\n",
    "    'job_change': {0.0: False, 1.0: True}\n",
    "}\n",
    "\n",
    "# Loop through DataFrame columns to efficiently change data types\n",
    "for col in ds_jobs_transformed:\n",
    "    \n",
    "    # Convert two-factor categories to bool\n",
    "    if col in ['relevant_experience', 'job_change']:\n",
    "        ds_jobs_transformed[col] = ds_jobs_transformed[col].map(two_factor_cats[col])\n",
    "    \n",
    "    # Convert integer columns to int32\n",
    "    elif col in ['student_id', 'training_hours']:\n",
    "        ds_jobs_transformed[col] = ds_jobs_transformed[col].astype('int32')\n",
    "    \n",
    "    # Convert float columns to float16\n",
    "    elif col == 'city_development_index':\n",
    "        ds_jobs_transformed[col] = ds_jobs_transformed[col].astype('float16')\n",
    "    \n",
    "    # Convert columns containing ordered categorical data to ordered categories using dict\n",
    "    elif col in ordered_cats.keys():\n",
    "        category = pd.CategoricalDtype(ordered_cats[col], ordered=True)\n",
    "        ds_jobs_transformed[col] = ds_jobs_transformed[col].astype(category)\n",
    "    \n",
    "    # Convert remaining columns to standard categories\n",
    "    else:\n",
    "        ds_jobs_transformed[col] = ds_jobs_transformed[col].astype('category')\n",
    "        \n",
    "# Filter students with 10 or more years experience at companies with at least 1000 employees\n",
    "ds_jobs_transformed = ds_jobs_transformed[(ds_jobs_transformed['experience'] >= '10') & (ds_jobs_transformed['company_size'] >= '1000-4999')]\n",
    "\n",
    "ds_jobs_transformed.info()\n"
   ]
  },
  {
   "cell_type": "markdown",
   "id": "c713d6f1-fb3a-432f-b142-57e4aa8ac2ed",
   "metadata": {},
   "source": [
    "Results\n",
    "-----\n",
    "\n",
    "\n",
    "There was a marked reduction in the size of the `ds_jobs_transformed` DataFrame from 2.0+ MB to 69.5 KB, which help to save memory and prepare the data for predictive modelling."
   ]
  },
  {
   "cell_type": "markdown",
   "id": "74787ea6-b3af-495f-b7fb-49dc0181fca3",
   "metadata": {},
   "source": [
    "Recommendations\n",
    "-----\n",
    "\n",
    "None"
   ]
  },
  {
   "cell_type": "markdown",
   "id": "1d176cba-1244-4ebb-a39d-17c209d0b6f5",
   "metadata": {},
   "source": [
    "Limitations\n",
    "-----\n",
    "\n",
    "None"
   ]
  },
  {
   "cell_type": "markdown",
   "id": "02f9e423-58bc-47c7-9246-6c078240896c",
   "metadata": {},
   "source": [
    "References\n",
    "----\n",
    "\n",
    "1. Filtering DataFrames in Intermediate Python Course for Associate Data Scientist in Python Carrer Track in DataCamp Inc by Hugo Bowne-Henderson.\n",
    "\n",
    "2. For loop in Intermediate Python Course for Associate Data Scientist in Python Carrer Track in DataCamp Inc by Hugo Bowne-Henderson.\n",
    "\n",
    "3. Python For Data Analysis 3E (Online) by Wes Mckinney Click [here](https://wesmckinney.com/book/) to preview\n",
    "\n",
    "4. Working with Categorical Data in Python in Intermediate Python Course for Associate Data Scientist in Python Carrer Track in DataCamp Inc by Kasey Jones.\n"
   ]
  }
 ],
 "metadata": {
  "editor": "DataLab",
  "kernelspec": {
   "display_name": "Python 3 (ipykernel)",
   "language": "python",
   "name": "python3"
  },
  "language_info": {
   "codemirror_mode": {
    "name": "ipython",
    "version": 3
   },
   "file_extension": ".py",
   "mimetype": "text/x-python",
   "name": "python",
   "nbconvert_exporter": "python",
   "pygments_lexer": "ipython3",
   "version": "3.11.8"
  }
 },
 "nbformat": 4,
 "nbformat_minor": 5
}
